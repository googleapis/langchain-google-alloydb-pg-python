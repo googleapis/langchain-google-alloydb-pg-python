{
  "cells": [
    {
      "cell_type": "markdown",
      "metadata": {},
      "source": [
        "# Model Endpoint Management in AlloyDB for PostgreSQL\n",
        "\n",
        "> [AlloyDB](https://cloud.google.com/alloydb) is a fully managed PostgreSQL compatible database service for your most demanding enterprise workloads.\n",
        "AlloyDB combines the best of Google with PostgreSQL, for superior performance, scale, and availability. Extend your database application to build AI-powered\n",
        "experiences leveraging AlloyDB Langchain integrations.\n",
        "\n",
        "This notebook goes over how to use Model endpoint management in AlloyDB using the `AlloyDBModelManager` and `AlloyDBEmbeddings` classes.\n",
        "\n",
        "Model Endpoint Management allows Google Cloud Databases, such as AlloyDB, Cloud SQL, Spanner, etc. to directly invoke Large Language Models (LLMs) within SQL queries, facilitating seamless integration of AI capabilities into data workflows. This feature enables developers to leverage LLM-powered insights in real time, improving the efficiency of data processing tasks.\n",
        "\n",
        "Learn more about the package on [GitHub](https://github.com/googleapis/langchain-google-alloydb-pg-python/).\n",
        "\n",
        "[![Open In Colab](https://colab.research.google.com/assets/colab-badge.svg)](https://colab.research.google.com/github/googleapis/langchain-google-alloydb-pg-python/blob/main/docs/model_endpoint_management.ipynb)"
      ]
    },
    {
      "cell_type": "markdown",
      "metadata": {},
      "source": [
        "## Before You Begin\n",
        "\n",
        "To run this notebook, you will need to do the following:\n",
        "\n",
        " * [Create a Google Cloud Project](https://developers.google.com/workspace/guides/create-project)\n",
        " * [Enable the AlloyDB API](https://console.cloud.google.com/flows/enableapi?apiid=alloydb.googleapis.com)\n",
        " * [Create a AlloyDB instance](https://cloud.google.com/alloydb/docs/instance-primary-create)\n",
        " * [Create a AlloyDB database](https://cloud.google.com/alloydb/docs/database-create)\n",
        " * [Set the google_ml_integration.enable_model_support database flag to on for an instance](https://cloud.google.com/alloydb/docs/instance-configure-database-flags)\n"
      ]
    },
    {
      "cell_type": "markdown",
      "metadata": {
        "id": "lfBhGVEM_97X"
      },
      "source": [
        "### (Optional) Set up non-default database users\n",
        "\n",
        "First, [Add an IAM database user to the database](https://cloud.google.com/alloydb/docs/manage-iam-authn) or a [custom database user](https://cloud.google.com/alloydb/docs/database-users/about#create).\n",
        "\n",
        "Second, set up the required user permissions by running the following commands on [AlloyDBStudio](https://cloud.google.com/alloydb/docs/manage-data-using-studio) or any `psql` terminal.\n"
      ]
    },
    {
      "cell_type": "markdown",
      "metadata": {
        "id": "2H9-FzGN_97X"
      },
      "source": [
        "The `google_ml_integration` extension must first be installed."
      ]
    },
    {
      "cell_type": "code",
      "execution_count": null,
      "metadata": {
        "id": "Mn0Pt7Gf_97X",
        "vscode": {
          "languageId": "sql"
        }
      },
      "outputs": [],
      "source": [
        "CREATE EXTENSION google_ml_integration VERSION '1.3';"
      ]
    },
    {
      "cell_type": "markdown",
      "metadata": {
        "id": "5U0LwwqFGTqP"
      },
      "source": [
        "Grant permissions for the user to access the tables in the `google_ml_extension`. Replace the `<NON_SUPER_USER>` with your user.\n",
        "\n",
        "For more information, see [Enabling extension](https://cloud.google.com/alloydb/docs/ai/model-endpoint-register-model#enable-extension).\n"
      ]
    },
    {
      "cell_type": "code",
      "execution_count": null,
      "metadata": {
        "id": "vulrB_51_97X",
        "vscode": {
          "languageId": "sql"
        }
      },
      "outputs": [],
      "source": [
        "GRANT SELECT, INSERT, UPDATE, DELETE ON ALL TABLES IN SCHEMA google_ml TO <NON_SUPER_USER>;"
      ]
    },
    {
      "cell_type": "markdown",
      "metadata": {
        "id": "YWlx7lMz_97Y"
      },
      "source": [
        "Grant permission for the user to access the `embedding` function of `google_ml_extension`. Replace the `<NON_SUPER_USER>` with your user.\n",
        "\n",
        "For more information about the above permission, see [Generate embeddings](https://cloud.google.com/alloydb/docs/ai/work-with-embeddings)."
      ]
    },
    {
      "cell_type": "code",
      "execution_count": null,
      "metadata": {
        "id": "Aqa2pPZ__97Y",
        "vscode": {
          "languageId": "sql"
        }
      },
      "outputs": [],
      "source": [
        "GRANT EXECUTE ON FUNCTION embedding TO <NON_SUPER_USER>;"
      ]
    },
    {
      "cell_type": "markdown",
      "metadata": {},
      "source": [
        "### 🦜🔗 Library Installation\n",
        "Install the integration library, `langchain-google-alloydb-pg`. The library must be version v0.8.0 or higher."
      ]
    },
    {
      "cell_type": "code",
      "execution_count": null,
      "metadata": {},
      "outputs": [],
      "source": [
        "%pip install --upgrade --quiet langchain-google-alloydb-pg langchain-core"
      ]
    },
    {
      "cell_type": "markdown",
      "metadata": {},
      "source": [
        "**Colab only:** Uncomment the following cell to restart the kernel or use the button to restart the kernel.\n",
        "For Vertex AI Workbench you can restart the terminal using the button on top."
      ]
    },
    {
      "cell_type": "code",
      "execution_count": null,
      "metadata": {},
      "outputs": [],
      "source": [
        "# # Automatically restart kernel after installs so that your environment can access the new packages\n",
        "# import IPython\n",
        "\n",
        "# app = IPython.Application.instance()\n",
        "# app.kernel.do_shutdown(True)"
      ]
    },
    {
      "cell_type": "markdown",
      "metadata": {},
      "source": [
        "### 🔐 Authentication\n",
        "Authenticate to Google Cloud as the IAM user logged into this notebook in order to access your Google Cloud Project.\n",
        "\n",
        "* If you are using Colab to run this notebook, use the cell below and continue.\n",
        "* If you are using Vertex AI Workbench, check out the setup instructions [here](https://github.com/GoogleCloudPlatform/generative-ai/tree/main/setup-env)."
      ]
    },
    {
      "cell_type": "code",
      "execution_count": null,
      "metadata": {},
      "outputs": [],
      "source": [
        "from google.colab import auth\n",
        "\n",
        "auth.authenticate_user()"
      ]
    },
    {
      "cell_type": "markdown",
      "metadata": {},
      "source": [
        "### ☁ Set Your Google Cloud Project\n",
        "Set your Google Cloud project so that you can leverage Google Cloud resources within this notebook.\n",
        "\n",
        "If you don't know your project ID, try the following:\n",
        "\n",
        "* Run `gcloud config list`.\n",
        "* Run `gcloud projects list`.\n",
        "* See the support page: [Locate the project ID](https://support.google.com/googleapi/answer/7014113)."
      ]
    },
    {
      "cell_type": "code",
      "execution_count": null,
      "metadata": {},
      "outputs": [],
      "source": [
        "# @markdown Please fill in the value below with your Google Cloud project ID and then run the cell.\n",
        "PROJECT_ID = \"my-project-id\"  # @param {type:\"string\"}\n",
        "\n",
        "# Set the project id\n",
        "! gcloud config set project {PROJECT_ID}"
      ]
    },
    {
      "cell_type": "markdown",
      "metadata": {
        "id": "DxC_TgYUDTUK"
      },
      "source": [
        "### Enable database integration with Vertex AI\n",
        "\n",
        "To enable database integration with Vertex AI, the AlloyDB service agent (`service-<PROJECT_NUMBER>@gcp-sa-alloydb.iam.gserviceaccount.com`) must be granted the Vertex AI User role. For more information on authentication for Vertex AI, see [this](https://cloud.google.com/alloydb/docs/ai/model-endpoint-register-model#vertex-provider)."
      ]
    },
    {
      "cell_type": "code",
      "execution_count": null,
      "metadata": {
        "id": "hwClEF1g_97X",
        "vscode": {
          "languageId": "plaintext"
        }
      },
      "outputs": [],
      "source": [
        "PROJECT_NUMBER=!gcloud projects describe {PROJECT_ID} --format=\"value(projectNumber)\"\n",
        "\n",
        "!gcloud projects add-iam-policy-binding {PROJECT_ID} \\\n",
        "--member=\"serviceAccount:service-{PROJECT_NUMBER[0]}@gcp-sa-alloydb.iam.gserviceaccount.com\" \\\n",
        "--role=\"roles/aiplatform.user\""
      ]
    },
    {
      "cell_type": "markdown",
      "metadata": {},
      "source": [
        "## Set up connection pool"
      ]
    },
    {
      "cell_type": "markdown",
      "metadata": {},
      "source": [
        "### Set AlloyDB database values\n",
        "Find your database values, in the [AlloyDB cluster page](https://console.cloud.google.com/alloydb?_ga=2.223735448.2062268965.1707700487-2088871159.1707257687)."
      ]
    },
    {
      "cell_type": "code",
      "execution_count": null,
      "metadata": {},
      "outputs": [],
      "source": [
        "# @title Set Your Values Here { display-mode: \"form\" }\n",
        "REGION = \"us-central1\"  # @param {type: \"string\"}\n",
        "CLUSTER = \"my-alloydb-cluster\"  # @param {type: \"string\"}\n",
        "INSTANCE = \"my-alloydb-instance\"  # @param {type: \"string\"}\n",
        "DATABASE = \"my-database\"  # @param {type: \"string\"}\n",
        "TABLE_NAME = \"vector_store\"  # @param {type: \"string\"}"
      ]
    },
    {
      "cell_type": "markdown",
      "metadata": {},
      "source": [
        "### AlloyDBEngine Connection Pool\n",
        "\n",
        "To connect to AlloyDB and use Model endpoint management is an `AlloyDBEngine` object is required. The `AlloyDBEngine` configures a connection pool to your AlloyDB database, enabling successful connections from your application and following industry best practices.\n",
        "\n",
        "To create a `AlloyDBEngine` using `AlloyDBEngine.from_instance()` you need to provide only 5 things:\n",
        "\n",
        "1. `project_id` : Project ID of the Google Cloud Project where the AlloyDB instance is located.\n",
        "1. `region` : Region where the AlloyDB instance is located.\n",
        "1. `cluster`: The name of the AlloyDB cluster.\n",
        "1. `instance` : The name of the AlloyDB instance.\n",
        "1. `database` : The name of the database to connect to on the AlloyDB instance.\n",
        "\n",
        "By default, [IAM database authentication](https://cloud.google.com/alloydb/docs/connect-iam) will be used as the method of database authentication. This library uses the IAM principal belonging to the [Application Default Credentials (ADC)](https://cloud.google.com/docs/authentication/application-default-credentials) sourced from the environment.\n",
        "\n",
        "Optionally, [built-in database authentication](https://cloud.google.com/alloydb/docs/database-users/about) using a username and password to access the AlloyDB database can also be used. Just provide the optional `user` and `password` arguments to `AlloyDBEngine.from_instance()`:\n",
        "\n",
        "* `user` : Database user to use for built-in database authentication and login.\n",
        "* `password` : Database password to use for built-in database authentication and login.\n"
      ]
    },
    {
      "cell_type": "code",
      "execution_count": null,
      "metadata": {},
      "outputs": [],
      "source": [
        "from langchain_google_alloydb_pg import AlloyDBEngine\n",
        "\n",
        "engine = await AlloyDBEngine.afrom_instance(\n",
        "    project_id=PROJECT_ID,\n",
        "    region=REGION,\n",
        "    cluster=CLUSTER,\n",
        "    instance=INSTANCE,\n",
        "    database=DATABASE,\n",
        ")"
      ]
    },
    {
      "cell_type": "markdown",
      "metadata": {},
      "source": [
        "## Register a model with `AlloyDBModelManager`\n",
        "The `AlloyDBModelManager` class allows the user to create, get, list, and drop models. A model is required by the `AlloyDBEmbeddings` class to be used to embed documents on insertion into the vector store and during similarity searches.\n",
        "\n",
        "Initialize an instance of `AlloyDBModelManager` with the connection pool through the `AlloyDBEngine` object."
      ]
    },
    {
      "cell_type": "code",
      "execution_count": null,
      "metadata": {},
      "outputs": [],
      "source": [
        "from langchain_google_alloydb_pg import AlloyDBModelManager, AlloyDBModel\n",
        "\n",
        "model_manager = await AlloyDBModelManager.create(engine)"
      ]
    },
    {
      "cell_type": "markdown",
      "metadata": {},
      "source": [
        "On creating the `AlloyDBModelManager` object, it will run a prerequisite check to ensure:\n",
        "* The extension is up to date: `google_ml_integration` extension is installed and the version is greater than 1.3\n",
        "* The database flag is set: `google_ml_integration.enable_model_support` is set to on."
      ]
    },
    {
      "cell_type": "markdown",
      "metadata": {},
      "source": [
        "#### List all models available\n",
        "This list includes the [pre built models](https://cloud.google.com/alloydb/docs/ai/model-endpoint-register-model#add-vertex) and any other model you may have created.\n"
      ]
    },
    {
      "cell_type": "code",
      "execution_count": null,
      "metadata": {},
      "outputs": [],
      "source": [
        "results = await model_manager.alist_models()\n",
        "print(results)"
      ]
    },
    {
      "cell_type": "markdown",
      "metadata": {},
      "source": [
        "#### Get a specific model\n",
        "To retrieve a specific model you will have to provide the `model_id` to the `aget_model()` function.\n",
        "\n",
        "If the model with the specified model_id exists, then the AlloyDBModel dataclass of it is returned.\n",
        "Otherwise None is returned."
      ]
    },
    {
      "cell_type": "code",
      "execution_count": null,
      "metadata": {},
      "outputs": [],
      "source": [
        "result = await model_manager.aget_model(model_id=\"textembedding-gecko\")\n",
        "print(result)"
      ]
    },
    {
      "cell_type": "markdown",
      "metadata": {},
      "source": [
        "#### Create a custom text embedding model\n",
        "\n",
        "To create a custom textembedding model you need to pass these parameters to the `acreate_model()` function :\n",
        "\n",
        "* model_id: A unique ID for the model endpoint that you define.\n",
        "* model_provider: The provider of the model endpoint (`google` for vertexAI and `custom` for custom  hosted models).\n",
        "* model_type: The model type (set this value to `text_embedding` for text embedding model endpoints or `generic` for all other model endpoints).\n",
        "* model_qualified_name: The fully qualified name in case the model endpoint has multiple versions or if the model endpoint defines it.\n",
        "\n",
        "You can customize your model further with some optional parameters. For all the details and possibilities, check out the [reference doc](https://cloud.google.com/alloydb/docs/reference/model-endpoint-reference#google_mlcreate_model).\n",
        "\n",
        "\n",
        "**Note**: The `acreate_model()` function doesn't return any value directly.\n",
        "You'll need to use `alist_models()` or `aget_model()` to verify if your model was created successfully."
      ]
    },
    {
      "cell_type": "code",
      "execution_count": null,
      "metadata": {},
      "outputs": [],
      "source": [
        "await model_manager.acreate_model(\n",
        "    model_id=\"textembedding-gecko@003\",\n",
        "    model_provider=\"google\",\n",
        "    model_qualified_name=\"textembedding-gecko@003\",\n",
        "    model_type=\"text_embedding\",\n",
        ")"
      ]
    },
    {
      "cell_type": "markdown",
      "metadata": {},
      "source": [
        "**Note**: A model once created can also be dropped."
      ]
    },
    {
      "cell_type": "markdown",
      "metadata": {},
      "source": [
        "#### Create custom third-party models\n",
        "You can also create a third-party custom text embedding model using these steps. You can also create a third-party custom text embedding model, such as Hugging Face models.\n",
        "\n",
        "For all models except Vertex AI model endpoints, you can store your API keys or bearer tokens in Secret Manager. This step is optional if your model endpoint doesn't handle authentication through Secret Manager.\n",
        "\n",
        "For information, see [Authentication for custom hosted models](https://cloud.google.com/alloydb/docs/ai/model-endpoint-register-model#set_up_authentication_for_custom-hosted_models).\n"
      ]
    },
    {
      "cell_type": "markdown",
      "metadata": {},
      "source": [
        "### Removing a Model\n",
        "If you no longer need a specific model, you can easily remove it using the adrop_model function by providing the model_id.\n",
        "\n",
        "To make sure the model has been deleted, you can use the alist_models function to list all your remaining models. The deleted model should no longer appear in the list."
      ]
    },
    {
      "cell_type": "code",
      "execution_count": null,
      "metadata": {},
      "outputs": [],
      "source": [
        "await model_manager.adrop_model(model_id=\"textembedding-gecko@003\")"
      ]
    },
    {
      "cell_type": "markdown",
      "metadata": {},
      "source": [
        "## Understanding the AlloyDBModel Dataclass\n",
        "\n",
        "When you retrieve a model using the function `aget_model()`, you'll receive an `AlloyDBModel` object.\n",
        "\n",
        "Here's a breakdown of what's inside:\n",
        "* model_id (str) : A unique ID for the model endpoint that you define.\n",
        "* model_request_url (Optional[str]) : The model-specific endpoint when adding other text embedding and generic model endpoints.\n",
        "* model_provider (str) : The provider of the model endpoint. Set to google for Vertex AI model endpoints and custom for custom-hosted model endpoints.\n",
        "* model_type (str) : The model type. You can set this value to text_embedding for text embedding model endpoints or generic for all other model endpoints.\n",
        "* model_qualified_name (str) : The fully qualified name in case the model endpoint has multiple versions or if the model endpoint defines it.\n",
        "* model_auth_type (Optional[str]) : The authentication type used by the model endpoint. You can set it to either alloydb_service_agent_iam for Vertex AI models or secret_manager for other providers.\n",
        "* model_auth_id (Optional[str]) : The secret ID that you set and is subsequently used when registering a model endpoint.\n",
        "* input_transform_fn (Optional[str]) : The SQL function name to transform input of the corresponding prediction function to the model-specific input.\n",
        "* output_transform_fn (Optional[str]) : The SQL function name to transform model specific output to the prediction function output.\n",
        "\n",
        "See below for an example of AlloyDBModel instance on using `aget_model(model_id=\"textembedding-gecko@001\")`."
      ]
    },
    {
      "cell_type": "code",
      "execution_count": null,
      "metadata": {
        "vscode": {
          "languageId": "plaintext"
        }
      },
      "outputs": [],
      "source": [
        "AlloyDBModel(\n",
        "    model_id=\"textembedding-gecko@001\",\n",
        "    model_request_url=\"publishers/google/models/textembedding-gecko@001\",\n",
        "    model_provider=\"google\",\n",
        "    model_type=\"text_embedding\",\n",
        "    model_qualified_name=\"textembedding-gecko@001\",\n",
        "    model_auth_type=\"alloydb_service_agent_iam\",\n",
        "    model_auth_id=None,\n",
        "    input_transform_fn=\"google_ml.vertexai_text_embedding_input_transform\",\n",
        "    output_transform_fn=\"google_ml.vertexai_text_embedding_output_transform\",\n",
        ")"
      ]
    },
    {
      "cell_type": "markdown",
      "metadata": {},
      "source": [
        "## Generate Vector Embeddings with `AlloyDBEmbeddings`\n",
        "The `AlloyDBEmbeddings` class allows users to utilize the in database embedding generation functions available via Model Endpoint Management.\n",
        "\n",
        "In the below example, we are using the `textembedding-gecko@003` model that we created using the Model Manager.\n",
        "\n",
        "**Note**: If you have dropped the above model, you can recreate it or use `textembedding-gecko@001`."
      ]
    },
    {
      "cell_type": "code",
      "execution_count": null,
      "metadata": {},
      "outputs": [],
      "source": [
        "from langchain_google_alloydb_pg import AlloyDBEmbeddings\n",
        "\n",
        "model_id = \"textembedding-gecko@003\"\n",
        "embedding_service = await AlloyDBEmbeddings.create(engine=engine, model_id=model_id)"
      ]
    },
    {
      "cell_type": "markdown",
      "metadata": {},
      "source": [
        "**Note**: This tutorial demonstrates the async interface. All async methods have corresponding sync methods."
      ]
    },
    {
      "cell_type": "markdown",
      "metadata": {},
      "source": [
        "On creating an instance of the `AlloyDBEmbeddings` class, it checks if the model exists.\n",
        "If the model does not exist with that model_id, the class throws a `ValueError`."
      ]
    },
    {
      "cell_type": "markdown",
      "metadata": {},
      "source": [
        "#### Using `AlloyDBEmbeddings` as an embedding service"
      ]
    },
    {
      "cell_type": "markdown",
      "metadata": {},
      "source": [
        "The `AlloyDBEmbeddings` class can be used as the embedding service with an `AlloyDBVectorStore` to generate embeddings on document insertion and for similarity searches.\n",
        "\n",
        "Learn more about getting started with the [`AlloyDBVectorStore`](https://github.com/googleapis/langchain-google-alloydb-pg-python/blob/main/docs/vector_store.ipynb)."
      ]
    },
    {
      "cell_type": "code",
      "execution_count": null,
      "metadata": {},
      "outputs": [],
      "source": [
        "import uuid\n",
        "from langchain_core.documents import Document\n",
        "from langchain_google_alloydb_pg import AlloyDBVectorStore\n",
        "\n",
        "# (Optional) Create a new vector store table\n",
        "VECTOR_SIZE = 768  # For textembeddding-gecko@003 model\n",
        "await engine.ainit_vectorstore_table(\n",
        "    table_name=\"vector_store_table\",\n",
        "    vector_size=VECTOR_SIZE,\n",
        "    overwrite_existing=True,\n",
        ")\n",
        "\n",
        "# Initialize the vector store instance with AlloyDBEmbeddings\n",
        "vs = await AlloyDBVectorStore.create(\n",
        "    engine,\n",
        "    embedding_service=embedding_service,\n",
        "    table_name=\"vector_store_table\",\n",
        ")\n",
        "\n",
        "# Add documents\n",
        "texts = [\"foo\", \"bar\", \"baz\", \"boo\"]\n",
        "ids = [str(uuid.uuid4()) for i in range(len(texts))]\n",
        "docs = [Document(page_content=texts[i]) for i in range(len(texts))]\n",
        "await vs.aadd_documents(docs, ids=ids)\n",
        "\n",
        "# Search documents\n",
        "results = await vs.asimilarity_search(\"foo\")"
      ]
    }
  ],
  "metadata": {
    "language_info": {
      "name": "python"
    }
  },
  "nbformat": 4,
  "nbformat_minor": 2
}
