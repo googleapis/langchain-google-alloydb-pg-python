{
 "cells": [
  {
   "cell_type": "markdown",
   "metadata": {},
   "source": [
    "# Google AlloyDB for PostgreSQL\n",
    "\n",
    "> [AlloyDB](https://cloud.google.com/alloydb) is a fully managed PostgreSQL compatible database service for your most demanding enterprise workloads.\n",
    "AlloyDB combines the best of Google with PostgreSQL, for superior performance, scale, and availability. Extend your database application to build AI-powered\n",
    "experiences leveraging AlloyDB Langchain integrations.\n",
    "\n",
    "This notebook goes over how to use `Alloydb MEM with LangChain` with the `AlloyDBModelManager` and `AlloyDBEmbeddings` class.\n",
    "\n",
    "Learn more about the package on [GitHub](https://github.com/googleapis/langchain-google-alloydb-pg-python/).\n",
    "\n",
    "[![Open In Colab](https://colab.research.google.com/assets/colab-badge.svg)](https://colab.research.google.com/github/googleapis/langchain-google-alloydb-pg-python/blob/main/docs/chat_message_history.ipynb)"
   ]
  },
  {
   "cell_type": "markdown",
   "metadata": {},
   "source": [
    "## Before You Begin\n",
    "\n",
    "To run this notebook, you will need to do the following:\n",
    "\n",
    " * [Create a Google Cloud Project](https://developers.google.com/workspace/guides/create-project)\n",
    " * [Enable the AlloyDB API](https://console.cloud.google.com/flows/enableapi?apiid=alloydb.googleapis.com)\n",
    " * [Create a AlloyDB instance](https://cloud.google.com/alloydb/docs/instance-primary-create)\n",
    " * [Create a AlloyDB database](https://cloud.google.com/alloydb/docs/database-create)\n",
    " * [Add an IAM database user to the database](https://cloud.google.com/alloydb/docs/manage-iam-authn) (Optional\n",
    " )\n",
    " * [Set up extension and authentication for VertexAI](https://cloud.google.com/alloydb/docs/ai/model-endpoint-register-model)"
   ]
  },
  {
   "cell_type": "markdown",
   "metadata": {},
   "source": [
    "If your database user is a non super user then run the below command on either psql or AlloyDBStudio"
   ]
  },
  {
   "cell_type": "code",
   "execution_count": null,
   "metadata": {
    "vscode": {
     "languageId": "sql"
    }
   },
   "outputs": [],
   "source": [
    "GRANT EXECUTE ON FUNCTION embedding TO USER_NAME;"
   ]
  },
  {
   "cell_type": "markdown",
   "metadata": {},
   "source": [
    "### 🦜🔗 Library Installation\n",
    "Install the integration library, `langchain-google-alloydb-pg`."
   ]
  },
  {
   "cell_type": "code",
   "execution_count": null,
   "metadata": {},
   "outputs": [],
   "source": [
    "%pip install --upgrade --quiet langchain-google-alloydb-pg langchain-google-vertexai"
   ]
  },
  {
   "cell_type": "markdown",
   "metadata": {},
   "source": [
    "**Colab only:** Uncomment the following cell to restart the kernel or use the button to restart the kernel.\n",
    "For Vertex AI Workbench you can restart the terminal using the button on top."
   ]
  },
  {
   "cell_type": "code",
   "execution_count": null,
   "metadata": {},
   "outputs": [],
   "source": [
    "# # Automatically restart kernel after installs so that your environment can access the new packages\n",
    "# import IPython\n",
    "\n",
    "# app = IPython.Application.instance()\n",
    "# app.kernel.do_shutdown(True)"
   ]
  },
  {
   "cell_type": "markdown",
   "metadata": {},
   "source": [
    "### 🔐 Authentication\n",
    "Authenticate to Google Cloud as the IAM user logged into this notebook in order to access your Google Cloud Project.\n",
    "\n",
    "* If you are using Colab to run this notebook, use the cell below and continue.\n",
    "* If you are using Vertex AI Workbench, check out the setup instructions [here](https://github.com/GoogleCloudPlatform/generative-ai/tree/main/setup-env)."
   ]
  },
  {
   "cell_type": "code",
   "execution_count": null,
   "metadata": {},
   "outputs": [],
   "source": [
    "from google.colab import auth\n",
    "\n",
    "auth.authenticate_user()"
   ]
  },
  {
   "cell_type": "markdown",
   "metadata": {},
   "source": [
    "### ☁ Set Your Google Cloud Project\n",
    "Set your Google Cloud project so that you can leverage Google Cloud resources within this notebook.\n",
    "\n",
    "If you don't know your project ID, try the following:\n",
    "\n",
    "* Run `gcloud config list`.\n",
    "* Run `gcloud projects list`.\n",
    "* See the support page: [Locate the project ID](https://support.google.com/googleapi/answer/7014113)."
   ]
  },
  {
   "cell_type": "code",
   "execution_count": null,
   "metadata": {},
   "outputs": [],
   "source": [
    "# @title Project { display-mode: \"form\" }\n",
    "PROJECT_ID = \"gcp_project_id\"  # @param {type:\"string\"}\n",
    "\n",
    "# Set the project id\n",
    "! gcloud config set project {PROJECT_ID}"
   ]
  },
  {
   "cell_type": "markdown",
   "metadata": {},
   "source": [
    "## Basic Usage"
   ]
  },
  {
   "cell_type": "markdown",
   "metadata": {},
   "source": [
    "### Set AlloyDB database values\n",
    "Find your database values, in the [AlloyDB cluster page](https://console.cloud.google.com/alloydb?_ga=2.223735448.2062268965.1707700487-2088871159.1707257687)."
   ]
  },
  {
   "cell_type": "code",
   "execution_count": null,
   "metadata": {},
   "outputs": [],
   "source": [
    "# @title Set Your Values Here { display-mode: \"form\" }\n",
    "REGION = \"us-central1\"  # @param {type: \"string\"}\n",
    "CLUSTER = \"my-alloydb-cluster\"  # @param {type: \"string\"}\n",
    "INSTANCE = \"my-alloydb-instance\"  # @param {type: \"string\"}\n",
    "DATABASE = \"my-database\"  # @param {type: \"string\"}\n",
    "TABLE_NAME = \"message_store\"  # @param {type: \"string\"}"
   ]
  },
  {
   "cell_type": "markdown",
   "metadata": {},
   "source": [
    "### AlloyDBEngine Connection Pool\n",
    "\n",
    "One of the requirements and arguments to establish AlloyDB Model endpoint Management is a `AlloyDBEngine` object. The `AlloyDBEngine`  configures a connection pool to your AlloyDB database, enabling successful connections from your application and following industry best practices.\n",
    "\n",
    "To create a `AlloyDBEngine` using `AlloyDBEngine.from_instance()` you need to provide only 5 things:\n",
    "\n",
    "1. `project_id` : Project ID of the Google Cloud Project where the AlloyDB instance is located.\n",
    "1. `region` : Region where the AlloyDB instance is located.\n",
    "1. `cluster`: The name of the AlloyDB cluster.\n",
    "1. `instance` : The name of the AlloyDB instance.\n",
    "1. `database` : The name of the database to connect to on the AlloyDB instance.\n",
    "\n",
    "By default, [IAM database authentication](https://cloud.google.com/alloydb/docs/connect-iam) will be used as the method of database authentication. This library uses the IAM principal belonging to the [Application Default Credentials (ADC)](https://cloud.google.com/docs/authentication/application-default-credentials) sourced from the environment.\n",
    "\n",
    "Optionally, [built-in database authentication](https://cloud.google.com/alloydb/docs/database-users/about) using a username and password to access the AlloyDB database can also be used. Just provide the optional `user` and `password` arguments to `AlloyDBEngine.from_instance()`:\n",
    "\n",
    "* `user` : Database user to use for built-in database authentication and login\n",
    "* `password` : Database password to use for built-in database authentication and login.\n"
   ]
  },
  {
   "cell_type": "markdown",
   "metadata": {},
   "source": [
    "**Note**: This tutorial demonstrates the async interface."
   ]
  },
  {
   "cell_type": "code",
   "execution_count": null,
   "metadata": {},
   "outputs": [],
   "source": [
    "from langchain_google_alloydb_pg import AlloyDBEngine\n",
    "\n",
    "engine = await AlloyDBEngine.afrom_instance(\n",
    "    project_id=PROJECT_ID,\n",
    "    region=REGION,\n",
    "    cluster=CLUSTER,\n",
    "    instance=INSTANCE,\n",
    "    database=DATABASE,\n",
    ")"
   ]
  },
  {
   "cell_type": "markdown",
   "metadata": {},
   "source": [
    "## Create an AlloyDBModelManager instance\n",
    "The `AlloyDBModelManager` class allows the user to create a model, list a model, list all models and drop a model. By creating a model using this, the `AlloyDBEmbedding` class can be used to call that specific model to embed all the data and added into the vectorstore."
   ]
  },
  {
   "cell_type": "code",
   "execution_count": null,
   "metadata": {},
   "outputs": [],
   "source": [
    "from langchain_google_alloydb_pg import AlloyDBModelManager\n",
    "\n",
    "model_manager = AlloyDBModelManager(engine)"
   ]
  },
  {
   "cell_type": "markdown",
   "metadata": {},
   "source": [
    "On creating the `AlloyDBModelManager` object, it will run a prerequisite check.\n",
    "In case of an error make sure:\n",
    "* extension is up to date : `google_ml_integration` extension is installed and the version is greater than 1.3\n",
    "* db flag is set : `google_ml_integration.enable_model_support` is set to on."
   ]
  },
  {
   "cell_type": "markdown",
   "metadata": {},
   "source": [
    "#### To list all models available\n",
    "This list includes the two pre built models:\n",
    "* `textembedding-gecko`\n",
    "* `textembedding-gecko@001`\n",
    "\n",
    "And any other model you may have created\n",
    "\n",
    "The alist_models function returns `List[AlloyDBModel]`."
   ]
  },
  {
   "cell_type": "code",
   "execution_count": null,
   "metadata": {},
   "outputs": [],
   "source": [
    "print(await model_manager.alist_models())"
   ]
  },
  {
   "cell_type": "markdown",
   "metadata": {},
   "source": [
    "#### To create a custom text embedding model\n",
    "The acreate_model function has three required parameters:\n",
    "* model_id: A unique ID for the model endpoint that you define.\n",
    "* model_provider: The provider of the model endpoint (`google` for vertexAI and `custom` for custom  hosted models).\n",
    "* model_type: The model type (set this value to `text_embedding` for text embedding model endpoints or `generic` for all other model endpoints).\n",
    "\n",
    "The rest of the arguments you can pass are optional. You can find a link to the optional parameters [here](https://cloud.google.com/alloydb/docs/reference/model-endpoint-reference#google_mlcreate_model).\n",
    "\n",
    "This function returns a None type.\n",
    "\n",
    "If the model has been successfully created, it will be visible using the alist_models function call."
   ]
  },
  {
   "cell_type": "code",
   "execution_count": null,
   "metadata": {},
   "outputs": [],
   "source": [
    "await model_manager.acreate_model(\n",
    "model_id=\"textembedding-gecko@003\",\n",
    "model_provider=\"google\",\n",
    "model_qualified_name='textembedding-gecko@003',\n",
    "model_type='text_embedding')"
   ]
  },
  {
   "cell_type": "markdown",
   "metadata": {},
   "source": [
    "#### To get a specific model\n",
    "The aget_model function has one required parameter:\n",
    "* model_id: A unique ID for the model endpoint that has been defined\n",
    "\n",
    "\n",
    "This function returns `Optional[AlloyDBModel]`\n",
    "\n",
    "If the model with the specified model_id exists, then the AlloyDBModel dataclass of it is returned.\n",
    "Otherwise None is returned."
   ]
  },
  {
   "cell_type": "code",
   "execution_count": null,
   "metadata": {},
   "outputs": [],
   "source": [
    "await model_manager.aget_model(model_id=\"textembedding-gecko\")"
   ]
  },
  {
   "cell_type": "markdown",
   "metadata": {},
   "source": [
    "#### To drop a specific model\n",
    "The adrop_model function has one required parameter:\n",
    "* model_id: A unique ID for the model endpoint that has been defined\n",
    "\n",
    "The function returns a None type on successful execution.\n",
    "\n",
    "This can be confirmed by using the alist_models function call.\n"
   ]
  },
  {
   "cell_type": "code",
   "execution_count": null,
   "metadata": {},
   "outputs": [],
   "source": [
    "await model_manager.adrop_model(model_id=\"textembedding-gecko@003\")"
   ]
  },
  {
   "cell_type": "markdown",
   "metadata": {},
   "source": [
    "## AlloyDBModel Dataclass\n",
    "The `AlloyDBModel` dataclass is used to return any model(s) being fetched using the `AlloyDBModelManager`.\n",
    "\n",
    "The member variables of this class are:\n",
    "* model_id (str) : A unique ID for the model endpoint that you define.\n",
    "* model_request_url (Optional[str]) : The model-specific endpoint when adding other text embedding and generic model endpoints.\n",
    "* model_provider (str) : The provider of the model endpoint. Set to google for Vertex AI model endpoints and custom for custom-hosted model endpoints.\n",
    "* model_type (str) : The model type. You can set this value to text_embedding for text embedding model endpoints or generic for all other model endpoints.\n",
    "* model_qualified_name (Optional[str]) : The fully qualified name in case the model endpoint has multiple versions or if the model endpoint defines it\n",
    "* model_auth_type (Optional[str]) : The authentication type used by the model endpoint. You can set it to either alloydb_service_agent_iam for Vertex AI models or secret_manager for other providers.\n",
    "* model_auth_id (Optional[str]) : The secret ID that you set and is subsequently used when registering a model endpoint.\n",
    "* input_transform_fn (Optional[str]) : The SQL function name to transform input of the corresponding prediction function to the model-specific input.\n",
    "* output_transform_fn (Optional[str]) : The SQL function name to transform model specific output to the prediction function output."
   ]
  },
  {
   "cell_type": "markdown",
   "metadata": {},
   "source": [
    "## Create an AlloyDBEmbeddings instance\n",
    "The `AlloyDBEmbeddings` class allows users to utilize the AlloyDB Embeddings available via Model Endpoint Management."
   ]
  },
  {
   "cell_type": "code",
   "execution_count": null,
   "metadata": {},
   "outputs": [],
   "source": [
    "from langchain_google_alloydb_pg import AlloyDBEmbeddings\n",
    "model_id = 'textembedding-gecko'\n",
    "embedding_service = AlloyDBEmbeddings(engine=engine, model_id=model_id)"
   ]
  },
  {
   "cell_type": "markdown",
   "metadata": {},
   "source": [
    "On creating an instance of the `AlloyDBEmbeddings` class, it creates an `AlloyDBModelManager` object to check if the model_id passed actually belongd to a model.\n",
    "If the model does not exist with that model_id, the class throws a `ValueError`."
   ]
  },
  {
   "cell_type": "markdown",
   "metadata": {},
   "source": [
    "#### To embed a query\n",
    "\n",
    "The function aembed_query (embed_query for syncEngine) uses Model Endpoint Management to generate embeddings for a given query.\n",
    "\n",
    "The function returns `List[Float]` which is the embedding of the supplied query."
   ]
  },
  {
   "cell_type": "code",
   "execution_count": null,
   "metadata": {},
   "outputs": [],
   "source": [
    "embedding_list = await embedding_service.aembed_query(\"test query\")"
   ]
  },
  {
   "cell_type": "markdown",
   "metadata": {},
   "source": [
    "The `AlloyDBEmbeddings` class can be used as the embedding service while creating the `AlloyDBVectorStore`.\n",
    "\n",
    "You can find a detailed sample notebook on `AlloyDBVectorStore` [here](vector_store.ipynb)"
   ]
  },
  {
   "cell_type": "code",
   "execution_count": null,
   "metadata": {},
   "outputs": [],
   "source": [
    "from langchain_google_alloydb_pg import AlloyDBVectorStore\n",
    "import uuid\n",
    "from langchain_core.documents import Document\n",
    "\n",
    "texts = [\"foo\", \"bar\", \"baz\", \"boo\"]\n",
    "VECTOR_SIZE = 768 # For textembeddding-gecko model\n",
    "ids = [str(uuid.uuid4()) for i in range(len(texts))]\n",
    "metadatas = [{\"page\": str(i), \"source\": \"google.com\"} for i in range(len(texts))]\n",
    "docs = [\n",
    "    Document(page_content=texts[i], metadata=metadatas[i]) for i in range(len(texts))\n",
    "]\n",
    "\n",
    "await engine.ainit_vectorstore_table(\n",
    "  table_name='vector_store_table',\n",
    "  vector_size=VECTOR_SIZE,\n",
    "  overwrite_existing=True,\n",
    ")\n",
    "\n",
    "vs = await AlloyDBVectorStore.create(\n",
    "  engine,\n",
    "  embedding_service=embedding_service,\n",
    "  table_name=\"vector_store_table\",\n",
    "  )\n",
    "\n",
    "await vs.aadd_documents(docs, ids=ids)"
   ]
  },
  {
   "cell_type": "markdown",
   "metadata": {},
   "source": [
    "#### To use `AlloyDBVectorStore` functionalities"
   ]
  },
  {
   "cell_type": "markdown",
   "metadata": {},
   "source": [
    "To use asimilarity_serach_by_vector / amax_marginal_relevance_search_vector / amax_marginal_relevance_search_vector,\n",
    "\n",
    "You can generate the embeddings for a query using the `AlloyDBEmbeddings` class and use that with the vector store."
   ]
  },
  {
   "cell_type": "code",
   "execution_count": null,
   "metadata": {},
   "outputs": [],
   "source": [
    "search_embedding = embedding_service.embed_query(\"foo\")\n",
    "results = await vs.asimilarity_search_by_vector(search_embedding)"
   ]
  },
  {
   "cell_type": "markdown",
   "metadata": {},
   "source": [
    "You can also use the other functions such as:\n",
    "* asimliraity_search\n",
    "* asimliraity_search_score\n",
    "* amax_marginal_relevance_search\n",
    "\n",
    "And more which are a part of the `AlloyDBVectorStore` class\n",
    "to use the provided `AlloyDBEmbedding` instance implicitly."
   ]
  },
  {
   "cell_type": "code",
   "execution_count": null,
   "metadata": {},
   "outputs": [],
   "source": [
    "results = await vs.asimilarity_search(\"foo\", k=1)"
   ]
  }
 ],
 "metadata": {
  "language_info": {
   "name": "python"
  }
 },
 "nbformat": 4,
 "nbformat_minor": 2
}
