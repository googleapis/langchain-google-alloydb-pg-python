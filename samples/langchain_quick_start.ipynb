{
 "cells": [
  {
   "cell_type": "code",
   "execution_count": null,
   "metadata": {
    "collapsed": true
   },
   "outputs": [],
   "source": [
    "{\n",
    "    \"cells\": [\n",
    "        {\n",
    "            \"cell_type\": \"code\",\n",
    "            \"execution_count\": null,\n",
    "            \"metadata\": {},\n",
    "            \"outputs\": [],\n",
    "            \"source\": [\n",
    "                \"# Copyright 2024 Google LLC\\n\",\n",
    "                \"#\\n\",\n",
    "                \"# Licensed under the Apache License, Version 2.0 (the \\\"License\\\");\\n\",\n",
    "                \"# you may not use this file except in compliance with the License.\\n\",\n",
    "                \"# You may obtain a copy of the License at\\n\",\n",
    "                \"#\\n\",\n",
    "                \"#     https://www.apache.org/licenses/LICENSE-2.0\\n\",\n",
    "                \"#\\n\",\n",
    "                \"# Unless required by applicable law or agreed to in writing, software\\n\",\n",
    "                \"# distributed under the License is distributed on an \\\"AS IS\\\" BASIS,\\n\",\n",
    "                \"# WITHOUT WARRANTIES OR CONDITIONS OF ANY KIND, either express or implied.\\n\",\n",
    "                \"# See the License for the specific language governing permissions and\\n\",\n",
    "                \"# limitations under the License.\"\n",
    "            ]\n",
    "        }\n",
    "    ],\n",
    "    \"metadata\": {\n",
    "        \"language_info\": {\n",
    "            \"name\": \"python\"\n",
    "        },\n",
    "        \"orig_nbformat\": 4\n",
    "    },\n",
    "    \"nbformat\": 4,\n",
    "    \"nbformat_minor\": 2\n",
    "}"
   ]
  }
 ],
 "metadata": {
  "kernelspec": {
   "display_name": "Python 3",
   "language": "python",
   "name": "python3"
  },
  "language_info": {
   "codemirror_mode": {
    "name": "ipython",
    "version": 2
   },
   "file_extension": ".py",
   "mimetype": "text/x-python",
   "name": "python",
   "nbconvert_exporter": "python",
   "pygments_lexer": "ipython2",
   "version": "2.7.6"
  }
 },
 "nbformat": 4,
 "nbformat_minor": 0
}
